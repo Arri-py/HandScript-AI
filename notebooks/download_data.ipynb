{
 "cells": [
  {
   "cell_type": "code",
   "execution_count": 10,
   "id": "98dba028",
   "metadata": {},
   "outputs": [
    {
     "name": "stdout",
     "output_type": "stream",
     "text": [
      "Downloading from https://www.kaggle.com/api/v1/datasets/download/tatianasnwrt/russian-handwritten-letters?dataset_version_number=18...\n"
     ]
    },
    {
     "name": "stderr",
     "output_type": "stream",
     "text": [
      "100%|██████████| 110M/110M [00:23<00:00, 4.92MB/s] "
     ]
    },
    {
     "name": "stdout",
     "output_type": "stream",
     "text": [
      "Extracting files...\n"
     ]
    },
    {
     "name": "stderr",
     "output_type": "stream",
     "text": [
      "\n"
     ]
    },
    {
     "name": "stdout",
     "output_type": "stream",
     "text": [
      "Path to dataset files: C:\\Users\\drdov\\.cache\\kagglehub\\datasets\\tatianasnwrt\\russian-handwritten-letters\\versions\\18\n"
     ]
    }
   ],
   "source": [
    "# Russian handwritten letters (https://www.kaggle.com/datasets/tatianasnwrt/russian-handwritten-letters)\n",
    "import kagglehub\n",
    "\n",
    "# Download latest version\n",
    "path = kagglehub.dataset_download(\"tatianasnwrt/russian-handwritten-letters\")\n",
    "\n",
    "print(\"Path to dataset files:\", path)"
   ]
  },
  {
   "cell_type": "code",
   "execution_count": 11,
   "id": "ce66b3ae",
   "metadata": {},
   "outputs": [
    {
     "name": "stdout",
     "output_type": "stream",
     "text": [
      "Downloading from https://www.kaggle.com/api/v1/datasets/download/constantinwerner/cyrillic-handwriting-dataset?dataset_version_number=4...\n"
     ]
    },
    {
     "name": "stderr",
     "output_type": "stream",
     "text": [
      "100%|██████████| 1.51G/1.51G [03:04<00:00, 8.82MB/s]"
     ]
    },
    {
     "name": "stdout",
     "output_type": "stream",
     "text": [
      "Extracting files...\n"
     ]
    },
    {
     "name": "stderr",
     "output_type": "stream",
     "text": [
      "\n"
     ]
    },
    {
     "name": "stdout",
     "output_type": "stream",
     "text": [
      "Path to dataset files: C:\\Users\\drdov\\.cache\\kagglehub\\datasets\\constantinwerner\\cyrillic-handwriting-dataset\\versions\\4\n"
     ]
    }
   ],
   "source": [
    "# Cyrillic Handwriting Dataset (https://www.kaggle.com/datasets/constantinwerner/cyrillic-handwriting-dataset)\n",
    "import kagglehub\n",
    "\n",
    "# Download latest version\n",
    "path = kagglehub.dataset_download(\"constantinwerner/cyrillic-handwriting-dataset\")\n",
    "\n",
    "print(\"Path to dataset files:\", path)"
   ]
  },
  {
   "cell_type": "markdown",
   "id": "ad383e98",
   "metadata": {},
   "source": [
    "### школьные тетради\n",
    "скачать датасет [тык](https://huggingface.co/datasets/ai-forever/school_notebooks_RU/tree/main)\n",
    "\n",
    "### печатный текст \n",
    "скачать датасет [тык](https://huggingface.co/datasets/Akajackson/donut_synthdog_rus)"
   ]
  }
 ],
 "metadata": {
  "kernelspec": {
   "display_name": "PyTorch",
   "language": "python",
   "name": "python3"
  },
  "language_info": {
   "codemirror_mode": {
    "name": "ipython",
    "version": 3
   },
   "file_extension": ".py",
   "mimetype": "text/x-python",
   "name": "python",
   "nbconvert_exporter": "python",
   "pygments_lexer": "ipython3",
   "version": "3.9.23"
  }
 },
 "nbformat": 4,
 "nbformat_minor": 5
}
