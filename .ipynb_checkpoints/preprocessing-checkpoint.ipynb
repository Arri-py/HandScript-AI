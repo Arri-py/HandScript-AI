{
 "cells": [
  {
   "cell_type": "markdown",
   "id": "a195ff38-2961-4ddc-ac1e-863aeeb69a57",
   "metadata": {
    "editable": true,
    "slideshow": {
     "slide_type": ""
    },
    "tags": []
   },
   "source": [
    "# Автонейминг "
   ]
  },
  {
   "cell_type": "code",
   "execution_count": null,
   "id": "95df6a48-c857-4d8b-9f16-4016a748e5a5",
   "metadata": {},
   "outputs": [],
   "source": [
    "import os\n",
    "from datetime import datetime\n",
    "\n",
    "def rename_files(folder_path):\n",
    "    for letter_dir in os.listdir(folder_path):\n",
    "        letter_path = os.path.join(folder_path, letter_dir)\n",
    "        \n",
    "        if os.path.isdir(letter_path):\n",
    "            for i, filename in enumerate(os.listdir(letter_path), 1):\n",
    "                new_name = f\"{letter_dir}_{i:03d}_raw_{datetime.now().strftime('%Y%m%d')}.tiff\"\n",
    "                os.rename(\n",
    "                    os.path.join(letter_path, filename),\n",
    "                    os.path.join(letter_path, new_name)\n",
    "                )\n",
    "\n",
    "rename_files(\"путь/к/папке/с/буквами\")"
   ]
  },
  {
   "cell_type": "markdown",
   "id": "879c9782-0662-4db5-b2f5-dba7d39416ad",
   "metadata": {},
   "source": [
    "# UUID-имена"
   ]
  },
  {
   "cell_type": "code",
   "execution_count": null,
   "id": "03a8d235-5ccb-4cbc-97b5-c5f2b1e44a2f",
   "metadata": {},
   "outputs": [],
   "source": [
    "import uuid\n",
    "filename = f\"{letter}_{str(uuid.uuid4())[:8]}.png\""
   ]
  },
  {
   "cell_type": "markdown",
   "id": "c2a878cc-cd5c-485b-937b-a97eb08191d6",
   "metadata": {},
   "source": [
    "# Хеш-имена"
   ]
  },
  {
   "cell_type": "code",
   "execution_count": null,
   "id": "7b4d3485-9a87-4998-aa19-2250b99581cf",
   "metadata": {},
   "outputs": [],
   "source": [
    "import hashlib\n",
    "with open(image_path, \"rb\") as f:\n",
    "    file_hash = hashlib.md5(f.read()).hexdigest()[:6]\n",
    "filename = f\"{letter}_{file_hash}.png\""
   ]
  },
  {
   "cell_type": "markdown",
   "id": "1dcb8d00-00a1-4b5b-8638-65f79c42ffde",
   "metadata": {},
   "source": [
    "# Ч/Б + адаптивная бинаризация"
   ]
  },
  {
   "cell_type": "code",
   "execution_count": null,
   "id": "7ecd5b86-4f02-4ca9-916f-249cd4c9ff49",
   "metadata": {},
   "outputs": [],
   "source": [
    "!pip install opencv-python"
   ]
  },
  {
   "cell_type": "code",
   "execution_count": null,
   "id": "1a6ca0f1-1ecf-4206-a897-b84773d6483a",
   "metadata": {},
   "outputs": [],
   "source": [
    "!pip install tqdm"
   ]
  },
  {
   "cell_type": "code",
   "execution_count": null,
   "id": "13a12f1f-82fb-43c7-bc96-cc587db97dae",
   "metadata": {
    "editable": true,
    "slideshow": {
     "slide_type": ""
    },
    "tags": []
   },
   "outputs": [],
   "source": [
    "import cv2\n",
    "import os\n",
    "import numpy as np\n",
    "from tqdm import tqdm\n",
    "\n",
    "def convert_to_bw(input_dir, output_dir, threshold=180):\n",
    "    \"\"\"\n",
    "    Конвертирует все изображения в папке в чёрно-белые с адаптивной бинаризацией\n",
    "    :param input_dir: Папка с исходными изображениями\n",
    "    :param output_dir: Папка для результатов\n",
    "    :param threshold: Порог бинаризации (0-255)\n",
    "    \"\"\"\n",
    "    os.makedirs(output_dir, exist_ok=True)\n",
    "    \n",
    "    for root, _, files in os.walk(input_dir):\n",
    "        for file in tqdm(files, desc=\"Обработка изображений\"):\n",
    "            if file.lower().endswith(('.png', '.jpg', '.jpeg', '.tiff')):\n",
    "                # Создаем аналогичную структуру папок\n",
    "                rel_path = os.path.relpath(root, input_dir)\n",
    "                os.makedirs(os.path.join(output_dir, rel_path), exist_ok=True)\n",
    "                \n",
    "                # Обработка изображения\n",
    "                img_path = os.path.join(root, file)\n",
    "                img = cv2.imread(img_path)\n",
    "                \n",
    "                # Конвертация в grayscale\n",
    "                gray = cv2.cvtColor(img, cv2.COLOR_BGR2GRAY)\n",
    "                \n",
    "                # Адаптивная бинаризация\n",
    "                bw = cv2.adaptiveThreshold(\n",
    "                    gray, 255,\n",
    "                    cv2.ADAPTIVE_THRESH_GAUSSIAN_C,\n",
    "                    cv2.THRESH_BINARY_INV,\n",
    "                    blockSize=21,\n",
    "                    C=7\n",
    "                )\n",
    "                \n",
    "                output_path = os.path.join(output_dir, rel_path, file)\n",
    "                cv2.imwrite(output_path, bw)\n",
    "\n",
    "input_folder = \"data/data_1_test/raw/\"  # Папка с исходными изображениями\n",
    "output_folder = \"data/data_1_test/processed/\"  # Папка для чёрно-белых версий\n",
    "\n",
    "convert_to_bw(input_folder, output_folder)"
   ]
  },
  {
   "cell_type": "code",
   "execution_count": null,
   "id": "ede5f81b-7241-42ba-b9d9-474f180cf296",
   "metadata": {
    "editable": true,
    "slideshow": {
     "slide_type": ""
    },
    "tags": []
   },
   "outputs": [],
   "source": [
    "import cv2\n",
    "import os\n",
    "import numpy as np\n",
    "from tqdm import tqdm\n",
    "\n",
    "def enhance_image(img):\n",
    "    \"\"\"\n",
    "    Улучшение качества изображения перед бинаризацией\n",
    "    :param img: Входное изображение (grayscale)\n",
    "    :return: Улучшенное изображение\n",
    "    \"\"\"\n",
    "    # Удаление шумов (Non-Local Means Denoising)\n",
    "    denoised = cv2.fastNlMeansDenoising(img, h=15, templateWindowSize=7, searchWindowSize=21)\n",
    "    \n",
    "    # Улучшение контраста (CLAHE)\n",
    "    clahe = cv2.createCLAHE(clipLimit=3.0, tileGridSize=(8,8))\n",
    "    contrast = clahe.apply(denoised)\n",
    "    \n",
    "    # Морфологическое закрытие для соединения разрывов\n",
    "    kernel = cv2.getStructuringElement(cv2.MORPH_ELLIPSE, (3,3))\n",
    "    closed = cv2.morphologyEx(contrast, cv2.MORPH_CLOSE, kernel)\n",
    "    \n",
    "    return closed\n",
    "\n",
    "def convert_to_bw(input_dir, output_dir, threshold=180):\n",
    "    \"\"\"\n",
    "    Конвертирует все изображения в папке в чёрно-белые с улучшением качества\n",
    "    :param input_dir: Папка с исходными изображениями\n",
    "    :param output_dir: Папка для результатов\n",
    "    :param threshold: Порог бинаризации (0-255)\n",
    "    \"\"\"\n",
    "    os.makedirs(output_dir, exist_ok=True)\n",
    "    \n",
    "    for root, _, files in os.walk(input_dir):\n",
    "        for file in tqdm(files, desc=\"Обработка изображений\"):\n",
    "            if file.lower().endswith(('.png', '.jpg', '.jpeg', '.tiff')):\n",
    "                # Создаем аналогичную структуру папок\n",
    "                rel_path = os.path.relpath(root, input_dir)\n",
    "                os.makedirs(os.path.join(output_dir, rel_path), exist_ok=True)\n",
    "                \n",
    "                # Обработка изображения\n",
    "                img_path = os.path.join(root, file)\n",
    "                img = cv2.imread(img_path)\n",
    "                \n",
    "                # Конвертация в grayscale\n",
    "                gray = cv2.cvtColor(img, cv2.COLOR_BGR2GRAY)\n",
    "                \n",
    "                # Улучшение качества\n",
    "                enhanced = enhance_image(gray)\n",
    "                \n",
    "                # Адаптивная бинаризация\n",
    "                bw = cv2.adaptiveThreshold(\n",
    "                    enhanced, 255,\n",
    "                    cv2.ADAPTIVE_THRESH_GAUSSIAN_C,\n",
    "                    cv2.THRESH_BINARY_INV,\n",
    "                    blockSize=21,\n",
    "                    C=7\n",
    "                )\n",
    "                \n",
    "                # Дополнительная очистка мелких артефактов\n",
    "                kernel_clean = np.ones((2,2), np.uint8)\n",
    "                cleaned = cv2.morphologyEx(bw, cv2.MORPH_OPEN, kernel_clean)\n",
    "                \n",
    "                output_path = os.path.join(output_dir, rel_path, file)\n",
    "                cv2.imwrite(output_path, cleaned)\n",
    "\n",
    "# Параметры обработки\n",
    "input_folder = \"data/data_1_test/raw/\"  # Папка с исходными изображениями\n",
    "output_folder = \"data/data_1_test/processed/\"  # Папка для чёрно-белых версий\n",
    "\n",
    "convert_to_bw(input_folder, output_folder)"
   ]
  },
  {
   "cell_type": "code",
   "execution_count": null,
   "id": "d9497a32-d097-44e8-b8f0-19f0748cca77",
   "metadata": {},
   "outputs": [],
   "source": []
  },
  {
   "cell_type": "code",
   "execution_count": null,
   "id": "1ed3a8ed-cfe7-4129-90b9-13a0df85a4e2",
   "metadata": {},
   "outputs": [],
   "source": []
  },
  {
   "cell_type": "code",
   "execution_count": null,
   "id": "656b9491-ee0c-4d2d-b102-8bb432060faf",
   "metadata": {},
   "outputs": [],
   "source": []
  }
 ],
 "metadata": {
  "kernelspec": {
   "display_name": "Python 3 (ipykernel)",
   "language": "python",
   "name": "python3"
  },
  "language_info": {
   "codemirror_mode": {
    "name": "ipython",
    "version": 3
   },
   "file_extension": ".py",
   "mimetype": "text/x-python",
   "name": "python",
   "nbconvert_exporter": "python",
   "pygments_lexer": "ipython3",
   "version": "3.13.2"
  }
 },
 "nbformat": 4,
 "nbformat_minor": 5
}
