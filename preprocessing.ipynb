{
 "cells": [
  {
   "cell_type": "markdown",
   "id": "a195ff38-2961-4ddc-ac1e-863aeeb69a57",
   "metadata": {},
   "source": [
    "# Автонейминг "
   ]
  },
  {
   "cell_type": "code",
   "execution_count": null,
   "id": "95df6a48-c857-4d8b-9f16-4016a748e5a5",
   "metadata": {},
   "outputs": [],
   "source": [
    "import os\n",
    "from datetime import datetime\n",
    "\n",
    "def rename_files(folder_path):\n",
    "    for letter_dir in os.listdir(folder_path):\n",
    "        letter_path = os.path.join(folder_path, letter_dir)\n",
    "        \n",
    "        if os.path.isdir(letter_path):\n",
    "            for i, filename in enumerate(os.listdir(letter_path), 1):\n",
    "                new_name = f\"{letter_dir}_{i:03d}_raw_{datetime.now().strftime('%Y%m%d')}.tiff\"\n",
    "                os.rename(\n",
    "                    os.path.join(letter_path, filename),\n",
    "                    os.path.join(letter_path, new_name)\n",
    "                )\n",
    "\n",
    "rename_files(\"путь/к/папке/с/буквами\")"
   ]
  },
  {
   "cell_type": "markdown",
   "id": "879c9782-0662-4db5-b2f5-dba7d39416ad",
   "metadata": {},
   "source": [
    "# UUID-имена"
   ]
  },
  {
   "cell_type": "code",
   "execution_count": null,
   "id": "03a8d235-5ccb-4cbc-97b5-c5f2b1e44a2f",
   "metadata": {},
   "outputs": [],
   "source": [
    "import uuid\n",
    "filename = f\"{letter}_{str(uuid.uuid4())[:8]}.png\""
   ]
  },
  {
   "cell_type": "markdown",
   "id": "c2a878cc-cd5c-485b-937b-a97eb08191d6",
   "metadata": {},
   "source": [
    "# Хеш-имена"
   ]
  },
  {
   "cell_type": "code",
   "execution_count": null,
   "id": "7b4d3485-9a87-4998-aa19-2250b99581cf",
   "metadata": {},
   "outputs": [],
   "source": [
    "import hashlib\n",
    "with open(image_path, \"rb\") as f:\n",
    "    file_hash = hashlib.md5(f.read()).hexdigest()[:6]\n",
    "filename = f\"{letter}_{file_hash}.png\""
   ]
  },
  {
   "cell_type": "markdown",
   "id": "1dcb8d00-00a1-4b5b-8638-65f79c42ffde",
   "metadata": {},
   "source": [
    "# Ч/Б + адаптивная бинаризация"
   ]
  },
  {
   "cell_type": "code",
   "execution_count": 3,
   "id": "7ecd5b86-4f02-4ca9-916f-249cd4c9ff49",
   "metadata": {},
   "outputs": [
    {
     "name": "stdout",
     "output_type": "stream",
     "text": [
      "Defaulting to user installation because normal site-packages is not writeable\n",
      "Collecting opencv-python\n",
      "  Downloading opencv_python-4.11.0.86-cp37-abi3-manylinux_2_17_x86_64.manylinux2014_x86_64.whl.metadata (20 kB)\n",
      "Requirement already satisfied: numpy>=1.21.2 in /usr/lib64/python3.13/site-packages (from opencv-python) (1.26.4)\n",
      "Downloading opencv_python-4.11.0.86-cp37-abi3-manylinux_2_17_x86_64.manylinux2014_x86_64.whl (63.0 MB)\n",
      "\u001b[2K   \u001b[38;2;114;156;31m━━━━━━━━━━━━━━━━━━━━━━━━━━━━━━━━━━━━━━━━\u001b[0m \u001b[32m63.0/63.0 MB\u001b[0m \u001b[31m5.3 MB/s\u001b[0m eta \u001b[36m0:00:00\u001b[0mm eta \u001b[36m0:00:01\u001b[0m[36m0:00:01\u001b[0m\n",
      "\u001b[?25hInstalling collected packages: opencv-python\n",
      "Successfully installed opencv-python-4.11.0.86\n"
     ]
    }
   ],
   "source": [
    "!pip install opencv-python"
   ]
  },
  {
   "cell_type": "code",
   "execution_count": 4,
   "id": "13a12f1f-82fb-43c7-bc96-cc587db97dae",
   "metadata": {},
   "outputs": [
    {
     "name": "stderr",
     "output_type": "stream",
     "text": [
      "Обработка изображений: 0it [00:00, ?it/s]\n",
      "Обработка изображений: 100%|███████████████████████████████████████████████████████████████████████████████████████████████████████████████| 1/1 [00:00<00:00,  4.56it/s]\n",
      "Обработка изображений: 100%|███████████████████████████████████████████████████████████████████████████████████████████████████████████████| 1/1 [00:00<00:00,  4.30it/s]\n",
      "Обработка изображений: 100%|███████████████████████████████████████████████████████████████████████████████████████████████████████████████| 1/1 [00:00<00:00,  4.52it/s]\n",
      "Обработка изображений: 100%|███████████████████████████████████████████████████████████████████████████████████████████████████████████████| 1/1 [00:00<00:00,  4.67it/s]\n"
     ]
    }
   ],
   "source": [
    "import cv2\n",
    "import os\n",
    "import numpy as np\n",
    "from tqdm import tqdm\n",
    "\n",
    "def convert_to_bw(input_dir, output_dir, threshold=180):\n",
    "    \"\"\"\n",
    "    Конвертирует все изображения в папке в чёрно-белые с адаптивной бинаризацией\n",
    "    :param input_dir: Папка с исходными изображениями\n",
    "    :param output_dir: Папка для результатов\n",
    "    :param threshold: Порог бинаризации (0-255)\n",
    "    \"\"\"\n",
    "    os.makedirs(output_dir, exist_ok=True)\n",
    "    \n",
    "    for root, _, files in os.walk(input_dir):\n",
    "        for file in tqdm(files, desc=\"Обработка изображений\"):\n",
    "            if file.lower().endswith(('.png', '.jpg', '.jpeg', '.tiff')):\n",
    "                # Создаем аналогичную структуру папок\n",
    "                rel_path = os.path.relpath(root, input_dir)\n",
    "                os.makedirs(os.path.join(output_dir, rel_path), exist_ok=True)\n",
    "                \n",
    "                # Обработка изображения\n",
    "                img_path = os.path.join(root, file)\n",
    "                img = cv2.imread(img_path)\n",
    "                \n",
    "                # Конвертация в grayscale\n",
    "                gray = cv2.cvtColor(img, cv2.COLOR_BGR2GRAY)\n",
    "                \n",
    "                # Адаптивная бинаризация\n",
    "                bw = cv2.adaptiveThreshold(\n",
    "                    gray, 255,\n",
    "                    cv2.ADAPTIVE_THRESH_GAUSSIAN_C,\n",
    "                    cv2.THRESH_BINARY_INV,\n",
    "                    blockSize=21,\n",
    "                    C=7\n",
    "                )\n",
    "                \n",
    "                output_path = os.path.join(output_dir, rel_path, file)\n",
    "                cv2.imwrite(output_path, bw)\n",
    "\n",
    "input_folder = \"data/data_1_test/raw/\"  # Папка с исходными изображениями\n",
    "output_folder = \"data/data_1_test/processed/\"  # Папка для чёрно-белых версий\n",
    "\n",
    "convert_to_bw(input_folder, output_folder)"
   ]
  },
  {
   "cell_type": "code",
   "execution_count": null,
   "id": "ede5f81b-7241-42ba-b9d9-474f180cf296",
   "metadata": {},
   "outputs": [],
   "source": []
  },
  {
   "cell_type": "code",
   "execution_count": null,
   "id": "d9497a32-d097-44e8-b8f0-19f0748cca77",
   "metadata": {},
   "outputs": [],
   "source": []
  },
  {
   "cell_type": "code",
   "execution_count": null,
   "id": "1ed3a8ed-cfe7-4129-90b9-13a0df85a4e2",
   "metadata": {},
   "outputs": [],
   "source": []
  }
 ],
 "metadata": {
  "kernelspec": {
   "display_name": "Python 3 (ipykernel)",
   "language": "python",
   "name": "python3"
  },
  "language_info": {
   "codemirror_mode": {
    "name": "ipython",
    "version": 3
   },
   "file_extension": ".py",
   "mimetype": "text/x-python",
   "name": "python",
   "nbconvert_exporter": "python",
   "pygments_lexer": "ipython3",
   "version": "3.13.2"
  }
 },
 "nbformat": 4,
 "nbformat_minor": 5
}
